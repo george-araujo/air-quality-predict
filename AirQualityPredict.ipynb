{
 "cells": [
  {
   "cell_type": "code",
   "execution_count": 11,
   "metadata": {},
   "outputs": [],
   "source": [
    "import requests\n",
    "import pandas as pd\n",
    "import datetime as dt"
   ]
  },
  {
   "cell_type": "code",
   "execution_count": 12,
   "metadata": {},
   "outputs": [],
   "source": [
    "cidade = \"Campina Grande\"\n",
    "dia = 10\n",
    "mes = 11\n",
    "ano = 2022\n",
    "data = dt.datetime(ano, mes, dia).timestamp()\n",
    "hoje = dt.datetime.today().timestamp()\n",
    "\n",
    "resposta_cidade = requests.get(f\"http://api.openweathermap.org/geo/1.0/direct?q={cidade}&appid=51f1f5550cf467bd43498d3a39116d03\").json()"
   ]
  },
  {
   "cell_type": "code",
   "execution_count": 13,
   "metadata": {},
   "outputs": [],
   "source": [
    "lat = resposta_cidade[0]['lat']\n",
    "lon = resposta_cidade[0]['lon']\n",
    "\n",
    "historico_qual_ar = requests.get(f'http://api.openweathermap.org/data/2.5/air_pollution/history?lat={lat}&lon={lon}&start={data:.0f}&end={hoje:.0f}&appid=51f1f5550cf467bd43498d3a39116d03').json()\n"
   ]
  },
  {
   "cell_type": "code",
   "execution_count": 14,
   "metadata": {},
   "outputs": [],
   "source": [
    "df = pd.DataFrame(historico_qual_ar['list'])"
   ]
  }
 ],
 "metadata": {
  "kernelspec": {
   "display_name": "Python 3.10.7 64-bit",
   "language": "python",
   "name": "python3"
  },
  "language_info": {
   "codemirror_mode": {
    "name": "ipython",
    "version": 3
   },
   "file_extension": ".py",
   "mimetype": "text/x-python",
   "name": "python",
   "nbconvert_exporter": "python",
   "pygments_lexer": "ipython3",
   "version": "3.10.7"
  },
  "orig_nbformat": 4,
  "vscode": {
   "interpreter": {
    "hash": "ee40beb5e165a33cf3828f43295c01e6a115806c0da9e9e4d2c6e6c84cc89b7e"
   }
  }
 },
 "nbformat": 4,
 "nbformat_minor": 2
}
